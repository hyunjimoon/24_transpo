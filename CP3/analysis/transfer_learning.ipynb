{
 "cells": [
  {
   "cell_type": "markdown",
   "metadata": {},
   "source": [
    "# Question 4: Generalization with zero-shot transfer learning"
   ]
  },
  {
   "cell_type": "code",
   "execution_count": null,
   "metadata": {},
   "outputs": [],
   "source": [
    "import numpy as np\n",
    "import matplotlib.pyplot as plt\n",
    "\n",
    "from utils import import_data, get_baseline_performance, evaluate_on_task"
   ]
  },
  {
   "cell_type": "markdown",
   "metadata": {},
   "source": [
    "## Settings"
   ]
  },
  {
   "cell_type": "code",
   "execution_count": null,
   "metadata": {},
   "outputs": [],
   "source": [
    "np.random.seed(42)\n",
    "\n",
    "# import data\n",
    "data_transfer, data_transfer_std, deltas, delta_min, delta_max, slope, lower_bound, upper_bound, unguided = import_data(\"../\", \"intersection_speed\", False)\n",
    "data_transfer = -data_transfer # change the performance to be higher the better. previous performance (average waiting time) was lower the better"
   ]
  },
  {
   "cell_type": "markdown",
   "metadata": {},
   "source": [
    "## Question 4.1\n",
    "Suppose your training budget is 5 models. First, let’s consider a simple strategy: a random selection of source tasks. Evaluate random selections of source tasks at least 10 times and plot the mean and variance."
   ]
  },
  {
   "cell_type": "code",
   "execution_count": null,
   "metadata": {},
   "outputs": [],
   "source": [
    "num_transfer_steps = 5\n",
    "print(f\"TODO: Please choose {num_transfer_steps} source tasks from {deltas}\")\n",
    "# Collect baseline performances\n",
    "oracle_transfer, exhaustive_training, sequential_oracle_training = get_baseline_performance(data_transfer, num_transfer_steps)"
   ]
  },
  {
   "cell_type": "code",
   "execution_count": null,
   "metadata": {},
   "outputs": [],
   "source": [
    "# TODO! Please choose five source tasks!\n",
    "source_tasks_random_1 = []\n",
    "source_tasks_random_2 = []\n",
    "source_tasks_random_3 = []\n",
    "source_tasks_random_4 = []\n",
    "source_tasks_random_5 = []\n",
    "source_tasks_random_6 = []\n",
    "source_tasks_random_7 = []\n",
    "source_tasks_random_8 = []\n",
    "source_tasks_random_9 = []\n",
    "source_tasks_random_10 = []"
   ]
  },
  {
   "cell_type": "code",
   "execution_count": null,
   "metadata": {},
   "outputs": [],
   "source": [
    "performance_random_1 = evaluate_on_task(data_transfer, source_tasks_random_1, deltas, num_transfer_steps)\n",
    "performance_random_2 = evaluate_on_task(data_transfer, source_tasks_random_2, deltas, num_transfer_steps)\n",
    "performance_random_3 = evaluate_on_task(data_transfer, source_tasks_random_3, deltas, num_transfer_steps)\n",
    "performance_random_4 = evaluate_on_task(data_transfer, source_tasks_random_4, deltas, num_transfer_steps)\n",
    "performance_random_5 = evaluate_on_task(data_transfer, source_tasks_random_5, deltas, num_transfer_steps)\n",
    "performance_random_6 = evaluate_on_task(data_transfer, source_tasks_random_6, deltas, num_transfer_steps)\n",
    "performance_random_7 = evaluate_on_task(data_transfer, source_tasks_random_7, deltas, num_transfer_steps)\n",
    "performance_random_8 = evaluate_on_task(data_transfer, source_tasks_random_8, deltas, num_transfer_steps)\n",
    "performance_random_9 = evaluate_on_task(data_transfer, source_tasks_random_9, deltas, num_transfer_steps)\n",
    "performance_random_10 = evaluate_on_task(data_transfer, source_tasks_random_10, deltas, num_transfer_steps)"
   ]
  },
  {
   "cell_type": "code",
   "execution_count": null,
   "metadata": {},
   "outputs": [],
   "source": [
    "performance_random = [performance_random_1, performance_random_2, performance_random_3, performance_random_4, performance_random_5, performance_random_6, performance_random_7, performance_random_8, performance_random_9, performance_random_10]\n",
    "performance_random = np.array(performance_random)\n",
    "performance_random_mean = performance_random.mean(axis=0)\n",
    "performance_random_std = performance_random.std(axis=0)"
   ]
  },
  {
   "cell_type": "code",
   "execution_count": null,
   "metadata": {},
   "outputs": [],
   "source": [
    "# Plot\n",
    "plt.clf()\n",
    "plt.rcParams['font.family'] = 'sans-serif'\n",
    "plt.figure(figsize=(8,6))\n",
    "# change font size\n",
    "plt.rcParams.update({'font.size': 12})\n",
    "\n",
    "plt.plot(range(1,num_transfer_steps+1), oracle_transfer, '--r.', label='Oracle Transfer')\n",
    "plt.plot(range(1,num_transfer_steps+1), exhaustive_training, '--g.', label='Exhaustive Training')\n",
    "plt.plot(range(1,num_transfer_steps+1), sequential_oracle_training, '--b.', label='Sequential Oracle Training')\n",
    "plt.plot(range(1,num_transfer_steps+1), performance_random_mean, '-k.', label='Random selected tasks')\n",
    "plt.fill_between(range(1,num_transfer_steps+1), performance_random_mean-performance_random_std, performance_random_mean+performance_random_std, color='gray', alpha=0.3, label='Random selected tasks (std)')\n",
    "\n",
    "plt.xlim((0,num_transfer_steps+1))\n",
    "plt.ylim((-3.55,-3.2))\n",
    "plt.legend(loc=\"lower right\", fontsize=10)\n",
    "plt.ylabel(\"Average reward\")\n",
    "plt.xlabel(\"Transfer steps\")\n",
    "plt.grid(color='gray', linestyle='dashed', alpha=0.5)\n"
   ]
  },
  {
   "cell_type": "markdown",
   "metadata": {},
   "source": [
    "## Question 4.2\n",
    "Suppose again that your training budget is 5 models. Without cheating (!), that is, without having access to the training and transfer performance results in advance, which 5 models is most sensible to train, under the assumption of linear generalization gap? "
   ]
  },
  {
   "cell_type": "code",
   "execution_count": null,
   "metadata": {},
   "outputs": [],
   "source": [
    "print(f\"TODO: Please choose {num_transfer_steps} source tasks from {deltas}\")"
   ]
  },
  {
   "cell_type": "code",
   "execution_count": null,
   "metadata": {},
   "outputs": [],
   "source": [
    "# TODO: Please choose five source tasks!\n",
    "source_tasks_linear = []\n",
    "performance_linear = evaluate_on_task(data_transfer, source_tasks_linear, deltas, num_transfer_steps)"
   ]
  },
  {
   "cell_type": "code",
   "execution_count": null,
   "metadata": {},
   "outputs": [],
   "source": [
    "# Plot\n",
    "plt.clf()\n",
    "plt.rcParams['font.family'] = 'sans-serif'\n",
    "plt.figure(figsize=(8,6))\n",
    "# change font size\n",
    "plt.rcParams.update({'font.size': 12})\n",
    "\n",
    "plt.plot(range(1,num_transfer_steps+1), oracle_transfer, '--r.', label='Oracle Transfer')\n",
    "plt.plot(range(1,num_transfer_steps+1), exhaustive_training, '--g.', label='Exhaustive Training')\n",
    "plt.plot(range(1,num_transfer_steps+1), sequential_oracle_training, '--b.', label='Sequential Oracle Training')\n",
    "plt.plot(range(1,num_transfer_steps+1), performance_random_mean, '-k.', label='Random selected tasks')\n",
    "plt.fill_between(range(1,num_transfer_steps+1), performance_random_mean-performance_random_std, performance_random_mean+performance_random_std, color='gray', alpha=0.3, label='Random selected tasks (std)')\n",
    "plt.plot(range(1,num_transfer_steps+1), performance_linear, '-m.', label='Answer to Q4.2')\n",
    "\n",
    "plt.xlim((0,num_transfer_steps+1))\n",
    "plt.ylim((-3.55,-3.2))\n",
    "plt.legend(loc=\"lower right\", fontsize=10)\n",
    "plt.ylabel(\"Average reward\")\n",
    "plt.xlabel(\"Transfer steps\")\n",
    "plt.grid(color='gray', linestyle='dashed', alpha=0.5)\n"
   ]
  },
  {
   "cell_type": "markdown",
   "metadata": {},
   "source": [
    "## Question 4.3\n",
    "Finally, suppose that you don’t know in advance your training budget. Your boss just says “try not to blow the entire department’s budget on this.” For this, try out the “anytime” approach Temporal Transfer Learning (TTL) discussed in class, to provide a good order in which to train models. You are welcome but do not need to implement the full algorithm in code. Manually\n",
    "writing down the source task array is sufficient. Give at least the first 8 models you would train under the TTL strategy. Report the curve provided by the ipynb notebook."
   ]
  },
  {
   "cell_type": "code",
   "execution_count": null,
   "metadata": {},
   "outputs": [],
   "source": [
    "num_transfer_steps = 8\n",
    "print(f\"TODO: Please choose {num_transfer_steps} source tasks from {deltas}\")"
   ]
  },
  {
   "cell_type": "code",
   "execution_count": null,
   "metadata": {},
   "outputs": [],
   "source": [
    "# TODO: Please choose eight source tasks you would train under the TTL strategy!\n",
    "source_tasks_own = []\n",
    "transfer_design_your_own = evaluate_on_task(data_transfer, source_tasks_own, deltas, num_transfer_steps)"
   ]
  },
  {
   "cell_type": "code",
   "execution_count": null,
   "metadata": {},
   "outputs": [],
   "source": [
    "# Collect baseline performances\n",
    "oracle_transfer, exhaustive_training, sequential_oracle_training = get_baseline_performance(data_transfer, num_transfer_steps)"
   ]
  },
  {
   "cell_type": "code",
   "execution_count": null,
   "metadata": {},
   "outputs": [],
   "source": [
    "# Plot\n",
    "plt.clf()\n",
    "plt.rcParams['font.family'] = 'sans-serif'\n",
    "plt.figure(figsize=(8,6))\n",
    "# change font size\n",
    "plt.rcParams.update({'font.size': 12})\n",
    "\n",
    "plt.plot(range(1,num_transfer_steps+1), oracle_transfer, '--r.', label='Oracle Transfer')\n",
    "plt.plot(range(1,num_transfer_steps+1), exhaustive_training, '--g.', label='Exhaustive Training')\n",
    "plt.plot(range(1,num_transfer_steps+1), sequential_oracle_training, '--b.', label='Sequential Oracle Training')\n",
    "plt.plot(range(1,num_transfer_steps+1), transfer_design_your_own, '-k.', label='Design your own!')\n",
    "\n",
    "plt.xlim((0,num_transfer_steps+1))\n",
    "plt.ylim((-3.55,-3.2))\n",
    "plt.legend(loc=\"lower right\", fontsize=10)\n",
    "plt.ylabel(\"Average reward\")\n",
    "plt.xlabel(\"Transfer steps\")\n",
    "plt.grid(color='gray', linestyle='dashed', alpha=0.5)\n"
   ]
  },
  {
   "cell_type": "markdown",
   "metadata": {},
   "source": [
    "## Question 4.4\n",
    "Qualitatively compare and contrast the strategies. What are the pros and cons of the different source task selection strategies?"
   ]
  },
  {
   "cell_type": "code",
   "execution_count": null,
   "metadata": {},
   "outputs": [],
   "source": []
  }
 ],
 "metadata": {
  "kernelspec": {
   "display_name": "bayes",
   "language": "python",
   "name": "python3"
  },
  "language_info": {
   "codemirror_mode": {
    "name": "ipython",
    "version": 3
   },
   "file_extension": ".py",
   "mimetype": "text/x-python",
   "name": "python",
   "nbconvert_exporter": "python",
   "pygments_lexer": "ipython3",
   "version": "3.9.18"
  }
 },
 "nbformat": 4,
 "nbformat_minor": 2
}
